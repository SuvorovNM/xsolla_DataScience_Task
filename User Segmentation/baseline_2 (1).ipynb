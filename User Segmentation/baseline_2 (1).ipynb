{
 "cells": [
  {
   "cell_type": "code",
   "execution_count": 9,
   "metadata": {},
   "outputs": [],
   "source": [
    "from __future__ import print_function\n",
    "import time\n",
    "import numpy as np\n",
    "import pandas as pd\n",
    "#from sklearn.datasets import fetch_mldata\n",
    "from sklearn.decomposition import PCA\n",
    "from sklearn.manifold import TSNE\n",
    "%matplotlib inline\n",
    "import matplotlib.pyplot as plt\n",
    "from mpl_toolkits.mplot3d import Axes3D\n",
    "import seaborn as sns\n",
    "import random\n",
    "from sklearn.cluster import KMeans"
   ]
  },
  {
   "cell_type": "code",
   "execution_count": 8,
   "metadata": {},
   "outputs": [],
   "source": [
    "\n"
   ]
  },
  {
   "cell_type": "code",
   "execution_count": 111,
   "metadata": {},
   "outputs": [],
   "source": [
    "segment_directory = \"data/segmentation.csv\"\n",
    "parse_dates = ['Recency']\n",
    "segment = pd.read_csv(segment_directory, header=0, parse_dates=parse_dates )\n"
   ]
  },
  {
   "cell_type": "code",
   "execution_count": 112,
   "metadata": {},
   "outputs": [
    {
     "data": {
      "text/plain": [
       "CustomerId    16000\n",
       "Monetary      16000\n",
       "Recency       16000\n",
       "Frequency     16000\n",
       "factor_1      16000\n",
       "factor_2      16000\n",
       "factor_3      16000\n",
       "factor_4      16000\n",
       "dtype: int64"
      ]
     },
     "execution_count": 112,
     "metadata": {},
     "output_type": "execute_result"
    }
   ],
   "source": [
    "segment.count()"
   ]
  },
  {
   "cell_type": "code",
   "execution_count": 113,
   "metadata": {},
   "outputs": [],
   "source": [
    "segment = segment.drop('CustomerId', 1)"
   ]
  },
  {
   "cell_type": "code",
   "execution_count": 114,
   "metadata": {},
   "outputs": [],
   "source": [
    "max_Recency = max(segment['Recency'])"
   ]
  },
  {
   "cell_type": "code",
   "execution_count": 115,
   "metadata": {},
   "outputs": [],
   "source": [
    "segment['Recency'] = max_Recency - segment['Recency']"
   ]
  },
  {
   "cell_type": "code",
   "execution_count": 116,
   "metadata": {},
   "outputs": [],
   "source": [
    "for i in range(len(segment['Recency'])):\n",
    "    segment.loc[i, 'Recency'] = int(segment.loc[i, 'Recency'].days)\n",
    "    #df.loc[i, 'date'] = datetime(year=int(dateString[0:4]), month=int(dateString[4:6]), day=int(dateString[6:8]))"
   ]
  },
  {
   "cell_type": "code",
   "execution_count": 117,
   "metadata": {},
   "outputs": [],
   "source": [
    "segment['Recency'] = segment['Recency'].astype(int)"
   ]
  },
  {
   "cell_type": "code",
   "execution_count": 118,
   "metadata": {},
   "outputs": [
    {
     "name": "stdout",
     "output_type": "stream",
     "text": [
      "<class 'pandas.core.frame.DataFrame'>\n",
      "RangeIndex: 16000 entries, 0 to 15999\n",
      "Data columns (total 7 columns):\n",
      " #   Column     Non-Null Count  Dtype  \n",
      "---  ------     --------------  -----  \n",
      " 0   Monetary   16000 non-null  float64\n",
      " 1   Recency    16000 non-null  int32  \n",
      " 2   Frequency  16000 non-null  int64  \n",
      " 3   factor_1   16000 non-null  float64\n",
      " 4   factor_2   16000 non-null  float64\n",
      " 5   factor_3   16000 non-null  float64\n",
      " 6   factor_4   16000 non-null  float64\n",
      "dtypes: float64(5), int32(1), int64(1)\n",
      "memory usage: 812.6 KB\n"
     ]
    }
   ],
   "source": [
    "segment.info()"
   ]
  },
  {
   "cell_type": "code",
   "execution_count": 119,
   "metadata": {},
   "outputs": [
    {
     "data": {
      "image/png": "[encoded data removed]",
      "text/plain": [
       "<Figure size 432x288 with 1 Axes>"
      ]
     },
     "metadata": {
      "needs_background": "light"
     },
     "output_type": "display_data"
    }
   ],
   "source": [
    "wcss=[]\n",
    "for i in range(1,11): \n",
    "    kmeans = KMeans(n_clusters=i, init ='k-means++', max_iter=300,  n_init=10,random_state=0 )\n",
    "    kmeans.fit(segment)\n",
    "    wcss.append(kmeans.inertia_)\n",
    "plt.plot(range(1,11),wcss)\n",
    "plt.title('The Elbow Method Graph')\n",
    "plt.xlabel('Number of clusters')\n",
    "plt.ylabel('WCSS')\n",
    "plt.show()"
   ]
  },
  {
   "cell_type": "markdown",
   "metadata": {},
   "source": [
    "### Оптимальное количество кластеров -> 4"
   ]
  },
  {
   "cell_type": "code",
   "execution_count": 120,
   "metadata": {},
   "outputs": [
    {
     "data": {
      "text/html": [
       "<style  type=\"text/css\" >\n",
       "    #T_641e10dd_c088_11ea_8afc_8c89a58c3985row0_col0 {\n",
       "            background-color:  #b40426;\n",
       "            color:  #f1f1f1;\n",
       "        }    #T_641e10dd_c088_11ea_8afc_8c89a58c3985row0_col1 {\n",
       "            background-color:  #3b4cc0;\n",
       "            color:  #f1f1f1;\n",
       "        }    #T_641e10dd_c088_11ea_8afc_8c89a58c3985row0_col2 {\n",
       "            background-color:  #f39475;\n",
       "            color:  #000000;\n",
       "        }    #T_641e10dd_c088_11ea_8afc_8c89a58c3985row0_col3 {\n",
       "            background-color:  #3d50c3;\n",
       "            color:  #f1f1f1;\n",
       "        }    #T_641e10dd_c088_11ea_8afc_8c89a58c3985row0_col4 {\n",
       "            background-color:  #3d50c3;\n",
       "            color:  #f1f1f1;\n",
       "        }    #T_641e10dd_c088_11ea_8afc_8c89a58c3985row0_col5 {\n",
       "            background-color:  #3b4cc0;\n",
       "            color:  #f1f1f1;\n",
       "        }    #T_641e10dd_c088_11ea_8afc_8c89a58c3985row0_col6 {\n",
       "            background-color:  #3e51c5;\n",
       "            color:  #f1f1f1;\n",
       "        }    #T_641e10dd_c088_11ea_8afc_8c89a58c3985row1_col0 {\n",
       "            background-color:  #3b4cc0;\n",
       "            color:  #f1f1f1;\n",
       "        }    #T_641e10dd_c088_11ea_8afc_8c89a58c3985row1_col1 {\n",
       "            background-color:  #b40426;\n",
       "            color:  #f1f1f1;\n",
       "        }    #T_641e10dd_c088_11ea_8afc_8c89a58c3985row1_col2 {\n",
       "            background-color:  #3b4cc0;\n",
       "            color:  #f1f1f1;\n",
       "        }    #T_641e10dd_c088_11ea_8afc_8c89a58c3985row1_col3 {\n",
       "            background-color:  #3e51c5;\n",
       "            color:  #f1f1f1;\n",
       "        }    #T_641e10dd_c088_11ea_8afc_8c89a58c3985row1_col4 {\n",
       "            background-color:  #3b4cc0;\n",
       "            color:  #f1f1f1;\n",
       "        }    #T_641e10dd_c088_11ea_8afc_8c89a58c3985row1_col5 {\n",
       "            background-color:  #3f53c6;\n",
       "            color:  #f1f1f1;\n",
       "        }    #T_641e10dd_c088_11ea_8afc_8c89a58c3985row1_col6 {\n",
       "            background-color:  #3d50c3;\n",
       "            color:  #f1f1f1;\n",
       "        }    #T_641e10dd_c088_11ea_8afc_8c89a58c3985row2_col0 {\n",
       "            background-color:  #f39475;\n",
       "            color:  #000000;\n",
       "        }    #T_641e10dd_c088_11ea_8afc_8c89a58c3985row2_col1 {\n",
       "            background-color:  #3c4ec2;\n",
       "            color:  #f1f1f1;\n",
       "        }    #T_641e10dd_c088_11ea_8afc_8c89a58c3985row2_col2 {\n",
       "            background-color:  #b40426;\n",
       "            color:  #f1f1f1;\n",
       "        }    #T_641e10dd_c088_11ea_8afc_8c89a58c3985row2_col3 {\n",
       "            background-color:  #3d50c3;\n",
       "            color:  #f1f1f1;\n",
       "        }    #T_641e10dd_c088_11ea_8afc_8c89a58c3985row2_col4 {\n",
       "            background-color:  #3d50c3;\n",
       "            color:  #f1f1f1;\n",
       "        }    #T_641e10dd_c088_11ea_8afc_8c89a58c3985row2_col5 {\n",
       "            background-color:  #3d50c3;\n",
       "            color:  #f1f1f1;\n",
       "        }    #T_641e10dd_c088_11ea_8afc_8c89a58c3985row2_col6 {\n",
       "            background-color:  #3f53c6;\n",
       "            color:  #f1f1f1;\n",
       "        }    #T_641e10dd_c088_11ea_8afc_8c89a58c3985row3_col0 {\n",
       "            background-color:  #7b9ff9;\n",
       "            color:  #000000;\n",
       "        }    #T_641e10dd_c088_11ea_8afc_8c89a58c3985row3_col1 {\n",
       "            background-color:  #7ea1fa;\n",
       "            color:  #000000;\n",
       "        }    #T_641e10dd_c088_11ea_8afc_8c89a58c3985row3_col2 {\n",
       "            background-color:  #7b9ff9;\n",
       "            color:  #000000;\n",
       "        }    #T_641e10dd_c088_11ea_8afc_8c89a58c3985row3_col3 {\n",
       "            background-color:  #b40426;\n",
       "            color:  #f1f1f1;\n",
       "        }    #T_641e10dd_c088_11ea_8afc_8c89a58c3985row3_col4 {\n",
       "            background-color:  #3b4cc0;\n",
       "            color:  #f1f1f1;\n",
       "        }    #T_641e10dd_c088_11ea_8afc_8c89a58c3985row3_col5 {\n",
       "            background-color:  #3c4ec2;\n",
       "            color:  #f1f1f1;\n",
       "        }    #T_641e10dd_c088_11ea_8afc_8c89a58c3985row3_col6 {\n",
       "            background-color:  #3b4cc0;\n",
       "            color:  #f1f1f1;\n",
       "        }    #T_641e10dd_c088_11ea_8afc_8c89a58c3985row4_col0 {\n",
       "            background-color:  #7da0f9;\n",
       "            color:  #000000;\n",
       "        }    #T_641e10dd_c088_11ea_8afc_8c89a58c3985row4_col1 {\n",
       "            background-color:  #7a9df8;\n",
       "            color:  #000000;\n",
       "        }    #T_641e10dd_c088_11ea_8afc_8c89a58c3985row4_col2 {\n",
       "            background-color:  #7b9ff9;\n",
       "            color:  #000000;\n",
       "        }    #T_641e10dd_c088_11ea_8afc_8c89a58c3985row4_col3 {\n",
       "            background-color:  #3c4ec2;\n",
       "            color:  #f1f1f1;\n",
       "        }    #T_641e10dd_c088_11ea_8afc_8c89a58c3985row4_col4 {\n",
       "            background-color:  #b40426;\n",
       "            color:  #f1f1f1;\n",
       "        }    #T_641e10dd_c088_11ea_8afc_8c89a58c3985row4_col5 {\n",
       "            background-color:  #3d50c3;\n",
       "            color:  #f1f1f1;\n",
       "        }    #T_641e10dd_c088_11ea_8afc_8c89a58c3985row4_col6 {\n",
       "            background-color:  #4055c8;\n",
       "            color:  #f1f1f1;\n",
       "        }    #T_641e10dd_c088_11ea_8afc_8c89a58c3985row5_col0 {\n",
       "            background-color:  #7b9ff9;\n",
       "            color:  #000000;\n",
       "        }    #T_641e10dd_c088_11ea_8afc_8c89a58c3985row5_col1 {\n",
       "            background-color:  #81a4fb;\n",
       "            color:  #000000;\n",
       "        }    #T_641e10dd_c088_11ea_8afc_8c89a58c3985row5_col2 {\n",
       "            background-color:  #7da0f9;\n",
       "            color:  #000000;\n",
       "        }    #T_641e10dd_c088_11ea_8afc_8c89a58c3985row5_col3 {\n",
       "            background-color:  #3d50c3;\n",
       "            color:  #f1f1f1;\n",
       "        }    #T_641e10dd_c088_11ea_8afc_8c89a58c3985row5_col4 {\n",
       "            background-color:  #3f53c6;\n",
       "            color:  #f1f1f1;\n",
       "        }    #T_641e10dd_c088_11ea_8afc_8c89a58c3985row5_col5 {\n",
       "            background-color:  #b40426;\n",
       "            color:  #f1f1f1;\n",
       "        }    #T_641e10dd_c088_11ea_8afc_8c89a58c3985row5_col6 {\n",
       "            background-color:  #3c4ec2;\n",
       "            color:  #f1f1f1;\n",
       "        }    #T_641e10dd_c088_11ea_8afc_8c89a58c3985row6_col0 {\n",
       "            background-color:  #7ea1fa;\n",
       "            color:  #000000;\n",
       "        }    #T_641e10dd_c088_11ea_8afc_8c89a58c3985row6_col1 {\n",
       "            background-color:  #7da0f9;\n",
       "            color:  #000000;\n",
       "        }    #T_641e10dd_c088_11ea_8afc_8c89a58c3985row6_col2 {\n",
       "            background-color:  #7da0f9;\n",
       "            color:  #000000;\n",
       "        }    #T_641e10dd_c088_11ea_8afc_8c89a58c3985row6_col3 {\n",
       "            background-color:  #3b4cc0;\n",
       "            color:  #f1f1f1;\n",
       "        }    #T_641e10dd_c088_11ea_8afc_8c89a58c3985row6_col4 {\n",
       "            background-color:  #4055c8;\n",
       "            color:  #f1f1f1;\n",
       "        }    #T_641e10dd_c088_11ea_8afc_8c89a58c3985row6_col5 {\n",
       "            background-color:  #3b4cc0;\n",
       "            color:  #f1f1f1;\n",
       "        }    #T_641e10dd_c088_11ea_8afc_8c89a58c3985row6_col6 {\n",
       "            background-color:  #b40426;\n",
       "            color:  #f1f1f1;\n",
       "        }</style><table id=\"T_641e10dd_c088_11ea_8afc_8c89a58c3985\" ><thead>    <tr>        <th class=\"blank level0\" ></th>        <th class=\"col_heading level0 col0\" >Monetary</th>        <th class=\"col_heading level0 col1\" >Recency</th>        <th class=\"col_heading level0 col2\" >Frequency</th>        <th class=\"col_heading level0 col3\" >factor_1</th>        <th class=\"col_heading level0 col4\" >factor_2</th>        <th class=\"col_heading level0 col5\" >factor_3</th>        <th class=\"col_heading level0 col6\" >factor_4</th>    </tr></thead><tbody>\n",
       "                <tr>\n",
       "                        <th id=\"T_641e10dd_c088_11ea_8afc_8c89a58c3985level0_row0\" class=\"row_heading level0 row0\" >Monetary</th>\n",
       "                        <td id=\"T_641e10dd_c088_11ea_8afc_8c89a58c3985row0_col0\" class=\"data row0 col0\" >1.000000</td>\n",
       "                        <td id=\"T_641e10dd_c088_11ea_8afc_8c89a58c3985row0_col1\" class=\"data row0 col1\" >-0.258633</td>\n",
       "                        <td id=\"T_641e10dd_c088_11ea_8afc_8c89a58c3985row0_col2\" class=\"data row0 col2\" >0.704994</td>\n",
       "                        <td id=\"T_641e10dd_c088_11ea_8afc_8c89a58c3985row0_col3\" class=\"data row0 col3\" >-0.003267</td>\n",
       "                        <td id=\"T_641e10dd_c088_11ea_8afc_8c89a58c3985row0_col4\" class=\"data row0 col4\" >0.000269</td>\n",
       "                        <td id=\"T_641e10dd_c088_11ea_8afc_8c89a58c3985row0_col5\" class=\"data row0 col5\" >-0.004693</td>\n",
       "                        <td id=\"T_641e10dd_c088_11ea_8afc_8c89a58c3985row0_col6\" class=\"data row0 col6\" >0.001962</td>\n",
       "            </tr>\n",
       "            <tr>\n",
       "                        <th id=\"T_641e10dd_c088_11ea_8afc_8c89a58c3985level0_row1\" class=\"row_heading level0 row1\" >Recency</th>\n",
       "                        <td id=\"T_641e10dd_c088_11ea_8afc_8c89a58c3985row1_col0\" class=\"data row1 col0\" >-0.258633</td>\n",
       "                        <td id=\"T_641e10dd_c088_11ea_8afc_8c89a58c3985row1_col1\" class=\"data row1 col1\" >1.000000</td>\n",
       "                        <td id=\"T_641e10dd_c088_11ea_8afc_8c89a58c3985row1_col2\" class=\"data row1 col2\" >-0.250237</td>\n",
       "                        <td id=\"T_641e10dd_c088_11ea_8afc_8c89a58c3985row1_col3\" class=\"data row1 col3\" >0.002042</td>\n",
       "                        <td id=\"T_641e10dd_c088_11ea_8afc_8c89a58c3985row1_col4\" class=\"data row1 col4\" >-0.008931</td>\n",
       "                        <td id=\"T_641e10dd_c088_11ea_8afc_8c89a58c3985row1_col5\" class=\"data row1 col5\" >0.012122</td>\n",
       "                        <td id=\"T_641e10dd_c088_11ea_8afc_8c89a58c3985row1_col6\" class=\"data row1 col6\" >-0.001852</td>\n",
       "            </tr>\n",
       "            <tr>\n",
       "                        <th id=\"T_641e10dd_c088_11ea_8afc_8c89a58c3985level0_row2\" class=\"row_heading level0 row2\" >Frequency</th>\n",
       "                        <td id=\"T_641e10dd_c088_11ea_8afc_8c89a58c3985row2_col0\" class=\"data row2 col0\" >0.704994</td>\n",
       "                        <td id=\"T_641e10dd_c088_11ea_8afc_8c89a58c3985row2_col1\" class=\"data row2 col1\" >-0.250237</td>\n",
       "                        <td id=\"T_641e10dd_c088_11ea_8afc_8c89a58c3985row2_col2\" class=\"data row2 col2\" >1.000000</td>\n",
       "                        <td id=\"T_641e10dd_c088_11ea_8afc_8c89a58c3985row2_col3\" class=\"data row2 col3\" >0.000180</td>\n",
       "                        <td id=\"T_641e10dd_c088_11ea_8afc_8c89a58c3985row2_col4\" class=\"data row2 col4\" >-0.000392</td>\n",
       "                        <td id=\"T_641e10dd_c088_11ea_8afc_8c89a58c3985row2_col5\" class=\"data row2 col5\" >0.006420</td>\n",
       "                        <td id=\"T_641e10dd_c088_11ea_8afc_8c89a58c3985row2_col6\" class=\"data row2 col6\" >0.005112</td>\n",
       "            </tr>\n",
       "            <tr>\n",
       "                        <th id=\"T_641e10dd_c088_11ea_8afc_8c89a58c3985level0_row3\" class=\"row_heading level0 row3\" >factor_1</th>\n",
       "                        <td id=\"T_641e10dd_c088_11ea_8afc_8c89a58c3985row3_col0\" class=\"data row3 col0\" >-0.003267</td>\n",
       "                        <td id=\"T_641e10dd_c088_11ea_8afc_8c89a58c3985row3_col1\" class=\"data row3 col1\" >0.002042</td>\n",
       "                        <td id=\"T_641e10dd_c088_11ea_8afc_8c89a58c3985row3_col2\" class=\"data row3 col2\" >0.000180</td>\n",
       "                        <td id=\"T_641e10dd_c088_11ea_8afc_8c89a58c3985row3_col3\" class=\"data row3 col3\" >1.000000</td>\n",
       "                        <td id=\"T_641e10dd_c088_11ea_8afc_8c89a58c3985row3_col4\" class=\"data row3 col4\" >-0.005630</td>\n",
       "                        <td id=\"T_641e10dd_c088_11ea_8afc_8c89a58c3985row3_col5\" class=\"data row3 col5\" >-0.000411</td>\n",
       "                        <td id=\"T_641e10dd_c088_11ea_8afc_8c89a58c3985row3_col6\" class=\"data row3 col6\" >-0.011337</td>\n",
       "            </tr>\n",
       "            <tr>\n",
       "                        <th id=\"T_641e10dd_c088_11ea_8afc_8c89a58c3985level0_row4\" class=\"row_heading level0 row4\" >factor_2</th>\n",
       "                        <td id=\"T_641e10dd_c088_11ea_8afc_8c89a58c3985row4_col0\" class=\"data row4 col0\" >0.000269</td>\n",
       "                        <td id=\"T_641e10dd_c088_11ea_8afc_8c89a58c3985row4_col1\" class=\"data row4 col1\" >-0.008931</td>\n",
       "                        <td id=\"T_641e10dd_c088_11ea_8afc_8c89a58c3985row4_col2\" class=\"data row4 col2\" >-0.000392</td>\n",
       "                        <td id=\"T_641e10dd_c088_11ea_8afc_8c89a58c3985row4_col3\" class=\"data row4 col3\" >-0.005630</td>\n",
       "                        <td id=\"T_641e10dd_c088_11ea_8afc_8c89a58c3985row4_col4\" class=\"data row4 col4\" >1.000000</td>\n",
       "                        <td id=\"T_641e10dd_c088_11ea_8afc_8c89a58c3985row4_col5\" class=\"data row4 col5\" >0.006977</td>\n",
       "                        <td id=\"T_641e10dd_c088_11ea_8afc_8c89a58c3985row4_col6\" class=\"data row4 col6\" >0.011048</td>\n",
       "            </tr>\n",
       "            <tr>\n",
       "                        <th id=\"T_641e10dd_c088_11ea_8afc_8c89a58c3985level0_row5\" class=\"row_heading level0 row5\" >factor_3</th>\n",
       "                        <td id=\"T_641e10dd_c088_11ea_8afc_8c89a58c3985row5_col0\" class=\"data row5 col0\" >-0.004693</td>\n",
       "                        <td id=\"T_641e10dd_c088_11ea_8afc_8c89a58c3985row5_col1\" class=\"data row5 col1\" >0.012122</td>\n",
       "                        <td id=\"T_641e10dd_c088_11ea_8afc_8c89a58c3985row5_col2\" class=\"data row5 col2\" >0.006420</td>\n",
       "                        <td id=\"T_641e10dd_c088_11ea_8afc_8c89a58c3985row5_col3\" class=\"data row5 col3\" >-0.000411</td>\n",
       "                        <td id=\"T_641e10dd_c088_11ea_8afc_8c89a58c3985row5_col4\" class=\"data row5 col4\" >0.006977</td>\n",
       "                        <td id=\"T_641e10dd_c088_11ea_8afc_8c89a58c3985row5_col5\" class=\"data row5 col5\" >1.000000</td>\n",
       "                        <td id=\"T_641e10dd_c088_11ea_8afc_8c89a58c3985row5_col6\" class=\"data row5 col6\" >-0.003524</td>\n",
       "            </tr>\n",
       "            <tr>\n",
       "                        <th id=\"T_641e10dd_c088_11ea_8afc_8c89a58c3985level0_row6\" class=\"row_heading level0 row6\" >factor_4</th>\n",
       "                        <td id=\"T_641e10dd_c088_11ea_8afc_8c89a58c3985row6_col0\" class=\"data row6 col0\" >0.001962</td>\n",
       "                        <td id=\"T_641e10dd_c088_11ea_8afc_8c89a58c3985row6_col1\" class=\"data row6 col1\" >-0.001852</td>\n",
       "                        <td id=\"T_641e10dd_c088_11ea_8afc_8c89a58c3985row6_col2\" class=\"data row6 col2\" >0.005112</td>\n",
       "                        <td id=\"T_641e10dd_c088_11ea_8afc_8c89a58c3985row6_col3\" class=\"data row6 col3\" >-0.011337</td>\n",
       "                        <td id=\"T_641e10dd_c088_11ea_8afc_8c89a58c3985row6_col4\" class=\"data row6 col4\" >0.011048</td>\n",
       "                        <td id=\"T_641e10dd_c088_11ea_8afc_8c89a58c3985row6_col5\" class=\"data row6 col5\" >-0.003524</td>\n",
       "                        <td id=\"T_641e10dd_c088_11ea_8afc_8c89a58c3985row6_col6\" class=\"data row6 col6\" >1.000000</td>\n",
       "            </tr>\n",
       "    </tbody></table>"
      ],
      "text/plain": [
       "<pandas.io.formats.style.Styler at 0x119d0b51670>"
      ]
     },
     "execution_count": 120,
     "metadata": {},
     "output_type": "execute_result"
    }
   ],
   "source": [
    "segment.corr().style.background_gradient(cmap='coolwarm')"
   ]
  },
  {
   "cell_type": "code",
   "execution_count": 121,
   "metadata": {},
   "outputs": [
    {
     "data": {
      "text/html": [
       "<div>\n",
       "<style scoped>\n",
       "    .dataframe tbody tr th:only-of-type {\n",
       "        vertical-align: middle;\n",
       "    }\n",
       "\n",
       "    .dataframe tbody tr th {\n",
       "        vertical-align: top;\n",
       "    }\n",
       "\n",
       "    .dataframe thead th {\n",
       "        text-align: right;\n",
       "    }\n",
       "</style>\n",
       "<table border=\"1\" class=\"dataframe\">\n",
       "  <thead>\n",
       "    <tr style=\"text-align: right;\">\n",
       "      <th></th>\n",
       "      <th>Monetary</th>\n",
       "      <th>Recency</th>\n",
       "      <th>Frequency</th>\n",
       "      <th>factor_1</th>\n",
       "      <th>factor_2</th>\n",
       "      <th>factor_3</th>\n",
       "      <th>factor_4</th>\n",
       "    </tr>\n",
       "  </thead>\n",
       "  <tbody>\n",
       "    <tr>\n",
       "      <th>0</th>\n",
       "      <td>100.40</td>\n",
       "      <td>12</td>\n",
       "      <td>6</td>\n",
       "      <td>0.35</td>\n",
       "      <td>0.08</td>\n",
       "      <td>0.609740</td>\n",
       "      <td>0.949383</td>\n",
       "    </tr>\n",
       "    <tr>\n",
       "      <th>1</th>\n",
       "      <td>170.00</td>\n",
       "      <td>22</td>\n",
       "      <td>4</td>\n",
       "      <td>0.66</td>\n",
       "      <td>0.16</td>\n",
       "      <td>0.942272</td>\n",
       "      <td>0.479846</td>\n",
       "    </tr>\n",
       "    <tr>\n",
       "      <th>2</th>\n",
       "      <td>70.75</td>\n",
       "      <td>22</td>\n",
       "      <td>6</td>\n",
       "      <td>0.92</td>\n",
       "      <td>0.20</td>\n",
       "      <td>0.323030</td>\n",
       "      <td>0.007076</td>\n",
       "    </tr>\n",
       "    <tr>\n",
       "      <th>3</th>\n",
       "      <td>75.00</td>\n",
       "      <td>88</td>\n",
       "      <td>10</td>\n",
       "      <td>0.35</td>\n",
       "      <td>0.78</td>\n",
       "      <td>0.876833</td>\n",
       "      <td>0.088974</td>\n",
       "    </tr>\n",
       "    <tr>\n",
       "      <th>4</th>\n",
       "      <td>94.51</td>\n",
       "      <td>67</td>\n",
       "      <td>5</td>\n",
       "      <td>0.51</td>\n",
       "      <td>0.44</td>\n",
       "      <td>0.912099</td>\n",
       "      <td>0.206194</td>\n",
       "    </tr>\n",
       "    <tr>\n",
       "      <th>...</th>\n",
       "      <td>...</td>\n",
       "      <td>...</td>\n",
       "      <td>...</td>\n",
       "      <td>...</td>\n",
       "      <td>...</td>\n",
       "      <td>...</td>\n",
       "      <td>...</td>\n",
       "    </tr>\n",
       "    <tr>\n",
       "      <th>15995</th>\n",
       "      <td>110.00</td>\n",
       "      <td>16</td>\n",
       "      <td>5</td>\n",
       "      <td>0.22</td>\n",
       "      <td>0.92</td>\n",
       "      <td>0.279858</td>\n",
       "      <td>0.012416</td>\n",
       "    </tr>\n",
       "    <tr>\n",
       "      <th>15996</th>\n",
       "      <td>175.00</td>\n",
       "      <td>31</td>\n",
       "      <td>9</td>\n",
       "      <td>0.66</td>\n",
       "      <td>0.55</td>\n",
       "      <td>0.045826</td>\n",
       "      <td>0.025403</td>\n",
       "    </tr>\n",
       "    <tr>\n",
       "      <th>15997</th>\n",
       "      <td>94.21</td>\n",
       "      <td>102</td>\n",
       "      <td>2</td>\n",
       "      <td>0.41</td>\n",
       "      <td>0.80</td>\n",
       "      <td>0.438510</td>\n",
       "      <td>0.665808</td>\n",
       "    </tr>\n",
       "    <tr>\n",
       "      <th>15998</th>\n",
       "      <td>3.35</td>\n",
       "      <td>162</td>\n",
       "      <td>1</td>\n",
       "      <td>0.75</td>\n",
       "      <td>0.17</td>\n",
       "      <td>0.009277</td>\n",
       "      <td>0.572111</td>\n",
       "    </tr>\n",
       "    <tr>\n",
       "      <th>15999</th>\n",
       "      <td>345.00</td>\n",
       "      <td>3</td>\n",
       "      <td>18</td>\n",
       "      <td>0.11</td>\n",
       "      <td>0.28</td>\n",
       "      <td>0.068690</td>\n",
       "      <td>0.457037</td>\n",
       "    </tr>\n",
       "  </tbody>\n",
       "</table>\n",
       "<p>16000 rows × 7 columns</p>\n",
       "</div>"
      ],
      "text/plain": [
       "       Monetary  Recency  Frequency  factor_1  factor_2  factor_3  factor_4\n",
       "0        100.40       12          6      0.35      0.08  0.609740  0.949383\n",
       "1        170.00       22          4      0.66      0.16  0.942272  0.479846\n",
       "2         70.75       22          6      0.92      0.20  0.323030  0.007076\n",
       "3         75.00       88         10      0.35      0.78  0.876833  0.088974\n",
       "4         94.51       67          5      0.51      0.44  0.912099  0.206194\n",
       "...         ...      ...        ...       ...       ...       ...       ...\n",
       "15995    110.00       16          5      0.22      0.92  0.279858  0.012416\n",
       "15996    175.00       31          9      0.66      0.55  0.045826  0.025403\n",
       "15997     94.21      102          2      0.41      0.80  0.438510  0.665808\n",
       "15998      3.35      162          1      0.75      0.17  0.009277  0.572111\n",
       "15999    345.00        3         18      0.11      0.28  0.068690  0.457037\n",
       "\n",
       "[16000 rows x 7 columns]"
      ]
     },
     "execution_count": 121,
     "metadata": {},
     "output_type": "execute_result"
    }
   ],
   "source": [
    "segment"
   ]
  },
  {
   "cell_type": "code",
   "execution_count": 122,
   "metadata": {},
   "outputs": [],
   "source": [
    "kmeans = KMeans(n_clusters=4, init ='k-means++', n_init=50, random_state=0).fit(segment)"
   ]
  },
  {
   "cell_type": "code",
   "execution_count": 123,
   "metadata": {},
   "outputs": [],
   "source": [
    "y_kmeans = kmeans.fit_predict(segment)"
   ]
  },
  {
   "cell_type": "code",
   "execution_count": 124,
   "metadata": {},
   "outputs": [
    {
     "name": "stdout",
     "output_type": "stream",
     "text": [
      "<class 'pandas.core.frame.DataFrame'>\n",
      "RangeIndex: 16000 entries, 0 to 15999\n",
      "Data columns (total 7 columns):\n",
      " #   Column     Non-Null Count  Dtype  \n",
      "---  ------     --------------  -----  \n",
      " 0   Monetary   16000 non-null  float64\n",
      " 1   Recency    16000 non-null  int32  \n",
      " 2   Frequency  16000 non-null  int64  \n",
      " 3   factor_1   16000 non-null  float64\n",
      " 4   factor_2   16000 non-null  float64\n",
      " 5   factor_3   16000 non-null  float64\n",
      " 6   factor_4   16000 non-null  float64\n",
      "dtypes: float64(5), int32(1), int64(1)\n",
      "memory usage: 812.6 KB\n"
     ]
    }
   ],
   "source": [
    "segment.info()"
   ]
  },
  {
   "cell_type": "code",
   "execution_count": 125,
   "metadata": {},
   "outputs": [
    {
     "data": {
      "text/plain": [
       "array([1, 2, 1, ..., 1, 1, 2])"
      ]
     },
     "execution_count": 125,
     "metadata": {},
     "output_type": "execute_result"
    }
   ],
   "source": [
    "kmeans.labels_"
   ]
  },
  {
   "cell_type": "code",
   "execution_count": 126,
   "metadata": {},
   "outputs": [],
   "source": [
    "def showplot(segment, first_feature, second_feature):\n",
    "    plt.scatter(segment[y_kmeans==0][first_feature], segment[y_kmeans==0][second_feature], s=100, c='red', label ='Cluster 1')\n",
    "    plt.scatter(segment[y_kmeans==1][first_feature], segment[y_kmeans==1][second_feature], s=100, c='blue', label ='Cluster 2')\n",
    "    plt.scatter(segment[y_kmeans==2][first_feature], segment[y_kmeans==2][second_feature], s=100, c='green', label ='Cluster 3')\n",
    "    plt.scatter(segment[y_kmeans==3][first_feature], segment[y_kmeans==3][second_feature], s=100, c='cyan', label ='Cluster 4')\n",
    "    plt.scatter(segment[y_kmeans==4][first_feature], segment[y_kmeans==4][second_feature], s=100, c='magenta', label ='Cluster 5')\n",
    "    plt.show()"
   ]
  },
  {
   "cell_type": "code",
   "execution_count": 127,
   "metadata": {},
   "outputs": [
    {
     "data": {
      "image/png": "[encoded data removed]",
      "text/plain": [
       "<Figure size 432x288 with 1 Axes>"
      ]
     },
     "metadata": {
      "needs_background": "light"
     },
     "output_type": "display_data"
    }
   ],
   "source": [
    "showplot(segment, 'Monetary', 'Frequency')"
   ]
  },
  {
   "cell_type": "code",
   "execution_count": 128,
   "metadata": {},
   "outputs": [
    {
     "data": {
      "image/png": "[encoded data removed]",
      "text/plain": [
       "<Figure size 432x288 with 1 Axes>"
      ]
     },
     "metadata": {
      "needs_background": "light"
     },
     "output_type": "display_data"
    }
   ],
   "source": [
    "showplot(segment, 'Monetary', 'Recency')"
   ]
  },
  {
   "cell_type": "code",
   "execution_count": 129,
   "metadata": {},
   "outputs": [
    {
     "data": {
      "image/png": "[encoded data removed]",
      "text/plain": [
       "<Figure size 432x288 with 1 Axes>"
      ]
     },
     "metadata": {
      "needs_background": "light"
     },
     "output_type": "display_data"
    }
   ],
   "source": [
    "showplot(segment, 'Monetary', 'factor_1')"
   ]
  },
  {
   "cell_type": "code",
   "execution_count": 130,
   "metadata": {},
   "outputs": [
    {
     "data": {
      "image/png": "[encoded data removed]",
      "text/plain": [
       "<Figure size 432x288 with 1 Axes>"
      ]
     },
     "metadata": {
      "needs_background": "light"
     },
     "output_type": "display_data"
    }
   ],
   "source": [
    "showplot(segment, 'Monetary', 'factor_2')"
   ]
  },
  {
   "cell_type": "code",
   "execution_count": 131,
   "metadata": {},
   "outputs": [
    {
     "data": {
      "image/png": "[encoded data removed]",
      "text/plain": [
       "<Figure size 432x288 with 1 Axes>"
      ]
     },
     "metadata": {
      "needs_background": "light"
     },
     "output_type": "display_data"
    }
   ],
   "source": [
    "showplot(segment, 'Monetary', 'factor_3')"
   ]
  },
  {
   "cell_type": "code",
   "execution_count": 132,
   "metadata": {},
   "outputs": [
    {
     "data": {
      "image/png": "[encoded data removed]",
      "text/plain": [
       "<Figure size 432x288 with 1 Axes>"
      ]
     },
     "metadata": {
      "needs_background": "light"
     },
     "output_type": "display_data"
    }
   ],
   "source": [
    "showplot(segment, 'Monetary', 'factor_4')"
   ]
  },
  {
   "cell_type": "code",
   "execution_count": 133,
   "metadata": {},
   "outputs": [
    {
     "data": {
      "text/plain": [
       "array([[5.43599313e+02, 3.52806291e+01, 1.07557947e+01, 4.99271523e-01,\n",
       "        5.03692053e-01, 4.89613062e-01, 4.88604241e-01],\n",
       "       [4.54137960e+01, 6.77533589e+01, 2.29322980e+00, 5.01889723e-01,\n",
       "        4.98160879e-01, 4.95483916e-01, 4.98326925e-01],\n",
       "       [2.41913171e+02, 3.74062982e+01, 6.44334671e+00, 4.93695585e-01,\n",
       "        4.95109602e-01, 4.96536934e-01, 5.01609321e-01],\n",
       "       [1.30547868e+03, 1.92967033e+01, 3.36593407e+01, 4.97472527e-01,\n",
       "        4.81098901e-01, 5.30096816e-01, 5.28140871e-01]])"
      ]
     },
     "execution_count": 133,
     "metadata": {},
     "output_type": "execute_result"
    }
   ],
   "source": [
    "kmeans.cluster_centers_"
   ]
  },
  {
   "cell_type": "markdown",
   "metadata": {},
   "source": [
    "### Clusters: \n",
    "#### Factor_1 - useless\n",
    "#### Factor_2 - near useless\n",
    "#### Factor_3 - better\n",
    "#### Factor_4 - same as Factor_3"
   ]
  },
  {
   "cell_type": "code",
   "execution_count": null,
   "metadata": {},
   "outputs": [],
   "source": []
  },
  {
   "cell_type": "code",
   "execution_count": null,
   "metadata": {},
   "outputs": [],
   "source": []
  },
  {
   "cell_type": "code",
   "execution_count": null,
   "metadata": {},
   "outputs": [],
   "source": []
  },
  {
   "cell_type": "code",
   "execution_count": null,
   "metadata": {},
   "outputs": [],
   "source": []
  },
  {
   "cell_type": "code",
   "execution_count": null,
   "metadata": {},
   "outputs": [],
   "source": []
  },
  {
   "cell_type": "code",
   "execution_count": null,
   "metadata": {},
   "outputs": [],
   "source": []
  },
  {
   "cell_type": "code",
   "execution_count": null,
   "metadata": {},
   "outputs": [],
   "source": []
  },
  {
   "cell_type": "code",
   "execution_count": null,
   "metadata": {},
   "outputs": [],
   "source": []
  },
  {
   "cell_type": "code",
   "execution_count": null,
   "metadata": {},
   "outputs": [],
   "source": []
  },
  {
   "cell_type": "code",
   "execution_count": null,
   "metadata": {},
   "outputs": [],
   "source": []
  },
  {
   "cell_type": "code",
   "execution_count": null,
   "metadata": {},
   "outputs": [],
   "source": []
  }
 ],
 "metadata": {
  "kernelspec": {
   "display_name": "Python 3",
   "language": "python",
   "name": "python3"
  },
  "language_info": {
   "codemirror_mode": {
    "name": "ipython",
    "version": 3
   },
   "file_extension": ".py",
   "mimetype": "text/x-python",
   "name": "python",
   "nbconvert_exporter": "python",
   "pygments_lexer": "ipython3",
   "version": "3.8.1"
  }
 },
 "nbformat": 4,
 "nbformat_minor": 4
}
